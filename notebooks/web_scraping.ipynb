{
 "cells": [
  {
   "cell_type": "markdown",
   "metadata": {},
   "source": [
    "# Webscraping weather.gov.sg\n",
    "This is a guide on how to scrap town and weather information from the [SG Government's Weather Website](http://www.weather.gov.sg/weather-forecast-2hrnowcast-2/). There is an API for this, but this method is straightfoward and doesn't require an API key."
   ]
  },
  {
   "cell_type": "markdown",
   "metadata": {},
   "source": [
    "## Load the soup"
   ]
  },
  {
   "cell_type": "code",
   "execution_count": 67,
   "metadata": {},
   "outputs": [],
   "source": [
    "import bs4 as bs\n",
    "import pandas as pd\n",
    "import numpy as np\n",
    "import urllib.request\n",
    "\n",
    "source = urllib.request.urlopen('http://www.weather.gov.sg/weather-forecast-2hrnowcast-2/').read()\n",
    "soup = bs.BeautifulSoup(source,'html.parser')"
   ]
  },
  {
   "cell_type": "markdown",
   "metadata": {},
   "source": [
    "## Find the target data in the tables\n",
    "Visit the website first to get a clue on where the data is conatined.\n",
    "\n",
    "After initial digging in the website's elements, we know that the data is store in 2 tables. Below is the soup for one of them."
   ]
  },
  {
   "cell_type": "code",
   "execution_count": 87,
   "metadata": {},
   "outputs": [
    {
     "data": {
      "text/plain": [
       "<table class=\"table\"> <thead>\n",
       "<tr>\n",
       "<th class=\"col-xs-6\">Town</th>\n",
       "<th class=\"col-xs-6\">Weather</th>\n",
       "</tr>\n",
       "</thead>\n",
       "<tbody> <tr> <td>Ang Mo Kio</td> <td><span><img alt=\"icon-moderate-rain-sm\" src=\"http://www.weather.gov.sg/wp-content/themes/wiptheme/assets/img/icon-moderate-rain-sm.png\"/> Moderate Rain</span></td> </tr> <tr> <td>Bedok</td> <td><span><img alt=\"icon-cloudy-sm\" src=\"http://www.weather.gov.sg/wp-content/themes/wiptheme/assets/img/icon-cloudy-sm.png\"/> Cloudy</span></td> </tr> <tr> <td>Bishan</td> <td><span><img alt=\"icon-moderate-rain-sm\" src=\"http://www.weather.gov.sg/wp-content/themes/wiptheme/assets/img/icon-moderate-rain-sm.png\"/> Moderate Rain</span></td> </tr> <tr> <td>Boon Lay</td> <td><span><img alt=\"icon-cloudy-sm\" src=\"http://www.weather.gov.sg/wp-content/themes/wiptheme/assets/img/icon-cloudy-sm.png\"/> Cloudy</span></td> </tr> <tr> <td>Bukit Batok</td> <td><span><img alt=\"icon-cloudy-sm\" src=\"http://www.weather.gov.sg/wp-content/themes/wiptheme/assets/img/icon-cloudy-sm.png\"/> Cloudy</span></td> </tr> <tr> <td>Bukit Merah</td> <td><span><img alt=\"icon-cloudy-sm\" src=\"http://www.weather.gov.sg/wp-content/themes/wiptheme/assets/img/icon-cloudy-sm.png\"/> Cloudy</span></td> </tr> <tr> <td>Bukit Panjang</td> <td><span><img alt=\"icon-cloudy-sm\" src=\"http://www.weather.gov.sg/wp-content/themes/wiptheme/assets/img/icon-cloudy-sm.png\"/> Cloudy</span></td> </tr> <tr> <td>Bukit Timah</td> <td><span><img alt=\"icon-cloudy-sm\" src=\"http://www.weather.gov.sg/wp-content/themes/wiptheme/assets/img/icon-cloudy-sm.png\"/> Cloudy</span></td> </tr> <tr> <td>Central Water Catchment</td> <td><span><img alt=\"icon-moderate-rain-sm\" src=\"http://www.weather.gov.sg/wp-content/themes/wiptheme/assets/img/icon-moderate-rain-sm.png\"/> Moderate Rain</span></td> </tr> <tr> <td>Changi</td> <td><span><img alt=\"icon-cloudy-sm\" src=\"http://www.weather.gov.sg/wp-content/themes/wiptheme/assets/img/icon-cloudy-sm.png\"/> Cloudy</span></td> </tr> <tr> <td>Choa Chu Kang</td> <td><span><img alt=\"icon-cloudy-sm\" src=\"http://www.weather.gov.sg/wp-content/themes/wiptheme/assets/img/icon-cloudy-sm.png\"/> Cloudy</span></td> </tr> <tr> <td>Clementi</td> <td><span><img alt=\"icon-cloudy-sm\" src=\"http://www.weather.gov.sg/wp-content/themes/wiptheme/assets/img/icon-cloudy-sm.png\"/> Cloudy</span></td> </tr> <tr> <td>City</td> <td><span><img alt=\"icon-cloudy-sm\" src=\"http://www.weather.gov.sg/wp-content/themes/wiptheme/assets/img/icon-cloudy-sm.png\"/> Cloudy</span></td> </tr> <tr> <td>Geylang</td> <td><span><img alt=\"icon-cloudy-sm\" src=\"http://www.weather.gov.sg/wp-content/themes/wiptheme/assets/img/icon-cloudy-sm.png\"/> Cloudy</span></td> </tr> <tr> <td>Hougang</td> <td><span><img alt=\"icon-moderate-rain-sm\" src=\"http://www.weather.gov.sg/wp-content/themes/wiptheme/assets/img/icon-moderate-rain-sm.png\"/> Moderate Rain</span></td> </tr> <tr> <td>Jalan Bahar</td> <td><span><img alt=\"icon-cloudy-sm\" src=\"http://www.weather.gov.sg/wp-content/themes/wiptheme/assets/img/icon-cloudy-sm.png\"/> Cloudy</span></td> </tr> <tr> <td>Jurong East</td> <td><span><img alt=\"icon-cloudy-sm\" src=\"http://www.weather.gov.sg/wp-content/themes/wiptheme/assets/img/icon-cloudy-sm.png\"/> Cloudy</span></td> </tr> <tr> <td>Jurong Island</td> <td><span><img alt=\"icon-cloudy-sm\" src=\"http://www.weather.gov.sg/wp-content/themes/wiptheme/assets/img/icon-cloudy-sm.png\"/> Cloudy</span></td> </tr> <tr> <td>Jurong West</td> <td><span><img alt=\"icon-cloudy-sm\" src=\"http://www.weather.gov.sg/wp-content/themes/wiptheme/assets/img/icon-cloudy-sm.png\"/> Cloudy</span></td> </tr> <tr> <td>Kallang</td> <td><span><img alt=\"icon-cloudy-sm\" src=\"http://www.weather.gov.sg/wp-content/themes/wiptheme/assets/img/icon-cloudy-sm.png\"/> Cloudy</span></td> </tr> <tr> <td>Lim Chu Kang</td> <td><span><img alt=\"icon-cloudy-sm\" src=\"http://www.weather.gov.sg/wp-content/themes/wiptheme/assets/img/icon-cloudy-sm.png\"/> Cloudy</span></td> </tr> <tr> <td>Mandai</td> <td><span><img alt=\"icon-moderate-rain-sm\" src=\"http://www.weather.gov.sg/wp-content/themes/wiptheme/assets/img/icon-moderate-rain-sm.png\"/> Moderate Rain</span></td> </tr> <tr> <td>Marine Parade</td> <td><span><img alt=\"icon-cloudy-sm\" src=\"http://www.weather.gov.sg/wp-content/themes/wiptheme/assets/img/icon-cloudy-sm.png\"/> Cloudy</span></td> </tr> <tr> <td>Novena</td> <td><span><img alt=\"icon-cloudy-sm\" src=\"http://www.weather.gov.sg/wp-content/themes/wiptheme/assets/img/icon-cloudy-sm.png\"/> Cloudy</span></td> </tr> <tbody>\n",
       "</tbody></tbody></table>"
      ]
     },
     "execution_count": 87,
     "metadata": {},
     "output_type": "execute_result"
    }
   ],
   "source": [
    "soup.find_all('table')[0]"
   ]
  },
  {
   "cell_type": "markdown",
   "metadata": {},
   "source": [
    "## Town data"
   ]
  },
  {
   "cell_type": "code",
   "execution_count": 25,
   "metadata": {},
   "outputs": [
    {
     "data": {
      "text/plain": [
       "'Pasir Ris'"
      ]
     },
     "execution_count": 25,
     "metadata": {},
     "output_type": "execute_result"
    }
   ],
   "source": [
    "tables[1].find_all('tr')[1].find_all('td')[0].text"
   ]
  },
  {
   "cell_type": "markdown",
   "metadata": {},
   "source": [
    "## Weather data"
   ]
  },
  {
   "cell_type": "code",
   "execution_count": 32,
   "metadata": {},
   "outputs": [
    {
     "data": {
      "text/plain": [
       "'Showers'"
      ]
     },
     "execution_count": 32,
     "metadata": {},
     "output_type": "execute_result"
    }
   ],
   "source": [
    "str(tables[1].find_all('tr')[1].find_all('td')[1].text).replace('\\xa0', '')"
   ]
  },
  {
   "cell_type": "markdown",
   "metadata": {},
   "source": [
    "## Get the forecast generation time"
   ]
  },
  {
   "cell_type": "code",
   "execution_count": 27,
   "metadata": {},
   "outputs": [
    {
     "data": {
      "text/plain": [
       "'8.00 am to 10.00 am'"
      ]
     },
     "execution_count": 27,
     "metadata": {},
     "output_type": "execute_result"
    }
   ],
   "source": [
    "soup.find('span', {'class':'time'}).text"
   ]
  },
  {
   "cell_type": "markdown",
   "metadata": {},
   "source": [
    "## Gather all weather data in a dataframe\n",
    "Use loops to navigate the soup and extract all towns and respective weather."
   ]
  },
  {
   "cell_type": "code",
   "execution_count": 63,
   "metadata": {},
   "outputs": [
    {
     "data": {
      "text/html": [
       "<div>\n",
       "<style scoped>\n",
       "    .dataframe tbody tr th:only-of-type {\n",
       "        vertical-align: middle;\n",
       "    }\n",
       "\n",
       "    .dataframe tbody tr th {\n",
       "        vertical-align: top;\n",
       "    }\n",
       "\n",
       "    .dataframe thead th {\n",
       "        text-align: right;\n",
       "    }\n",
       "</style>\n",
       "<table border=\"1\" class=\"dataframe\">\n",
       "  <thead>\n",
       "    <tr style=\"text-align: right;\">\n",
       "      <th></th>\n",
       "      <th>town</th>\n",
       "      <th>weather</th>\n",
       "    </tr>\n",
       "  </thead>\n",
       "  <tbody>\n",
       "    <tr>\n",
       "      <th>0</th>\n",
       "      <td>Ang Mo Kio</td>\n",
       "      <td>Moderate Rain</td>\n",
       "    </tr>\n",
       "    <tr>\n",
       "      <th>1</th>\n",
       "      <td>Bedok</td>\n",
       "      <td>Cloudy</td>\n",
       "    </tr>\n",
       "    <tr>\n",
       "      <th>2</th>\n",
       "      <td>Bishan</td>\n",
       "      <td>Moderate Rain</td>\n",
       "    </tr>\n",
       "    <tr>\n",
       "      <th>3</th>\n",
       "      <td>Boon Lay</td>\n",
       "      <td>Cloudy</td>\n",
       "    </tr>\n",
       "    <tr>\n",
       "      <th>4</th>\n",
       "      <td>Bukit Batok</td>\n",
       "      <td>Cloudy</td>\n",
       "    </tr>\n",
       "  </tbody>\n",
       "</table>\n",
       "</div>"
      ],
      "text/plain": [
       "          town        weather\n",
       "0   Ang Mo Kio  Moderate Rain\n",
       "1        Bedok         Cloudy\n",
       "2       Bishan  Moderate Rain\n",
       "3     Boon Lay         Cloudy\n",
       "4  Bukit Batok         Cloudy"
      ]
     },
     "execution_count": 63,
     "metadata": {},
     "output_type": "execute_result"
    }
   ],
   "source": [
    "ls_town = []\n",
    "ls_weather = []\n",
    "for table in soup.find_all('table'):\n",
    "    for tr in table.find_all('tr'):\n",
    "        ls_td = tr.find_all('td')\n",
    "        if ls_td:\n",
    "            town = ls_td[0].text\n",
    "            weather = ls_td[1].text.replace('\\xa0', '')\n",
    "            ls_town.append(town)\n",
    "            ls_weather.append(weather)\n",
    "\n",
    "# Create dataframe\n",
    "df = pd.DataFrame({\n",
    "    'town': ls_town,\n",
    "    'weather': ls_weather,\n",
    "})\n",
    "\n",
    "# Print the first 5 lines\n",
    "df.head()"
   ]
  },
  {
   "cell_type": "markdown",
   "metadata": {},
   "source": [
    "## Add is_rain indicator column"
   ]
  },
  {
   "cell_type": "code",
   "execution_count": 80,
   "metadata": {},
   "outputs": [
    {
     "data": {
      "text/html": [
       "<div>\n",
       "<style scoped>\n",
       "    .dataframe tbody tr th:only-of-type {\n",
       "        vertical-align: middle;\n",
       "    }\n",
       "\n",
       "    .dataframe tbody tr th {\n",
       "        vertical-align: top;\n",
       "    }\n",
       "\n",
       "    .dataframe thead th {\n",
       "        text-align: right;\n",
       "    }\n",
       "</style>\n",
       "<table border=\"1\" class=\"dataframe\">\n",
       "  <thead>\n",
       "    <tr style=\"text-align: right;\">\n",
       "      <th></th>\n",
       "      <th>town</th>\n",
       "      <th>weather</th>\n",
       "      <th>is_rain</th>\n",
       "    </tr>\n",
       "  </thead>\n",
       "  <tbody>\n",
       "    <tr>\n",
       "      <th>0</th>\n",
       "      <td>Ang Mo Kio</td>\n",
       "      <td>Moderate Rain</td>\n",
       "      <td>1</td>\n",
       "    </tr>\n",
       "    <tr>\n",
       "      <th>1</th>\n",
       "      <td>Bedok</td>\n",
       "      <td>Cloudy</td>\n",
       "      <td>0</td>\n",
       "    </tr>\n",
       "    <tr>\n",
       "      <th>2</th>\n",
       "      <td>Bishan</td>\n",
       "      <td>Moderate Rain</td>\n",
       "      <td>1</td>\n",
       "    </tr>\n",
       "    <tr>\n",
       "      <th>3</th>\n",
       "      <td>Boon Lay</td>\n",
       "      <td>Cloudy</td>\n",
       "      <td>0</td>\n",
       "    </tr>\n",
       "    <tr>\n",
       "      <th>4</th>\n",
       "      <td>Bukit Batok</td>\n",
       "      <td>Cloudy</td>\n",
       "      <td>0</td>\n",
       "    </tr>\n",
       "  </tbody>\n",
       "</table>\n",
       "</div>"
      ],
      "text/plain": [
       "          town        weather  is_rain\n",
       "0   Ang Mo Kio  Moderate Rain        1\n",
       "1        Bedok         Cloudy        0\n",
       "2       Bishan  Moderate Rain        1\n",
       "3     Boon Lay         Cloudy        0\n",
       "4  Bukit Batok         Cloudy        0"
      ]
     },
     "execution_count": 80,
     "metadata": {},
     "output_type": "execute_result"
    }
   ],
   "source": [
    "ls_rain = ['rain', 'showers']\n",
    "\n",
    "df['is_rain'] = 0\n",
    "df['is_rain'] = np.where(df['weather'].str.lower().str.contains('rain'),1, df['is_rain'])\n",
    "df['is_rain'] = np.where(df['weather'].str.lower().str.contains('showers'),1, df['is_rain'])\n",
    "df.head()"
   ]
  }
 ],
 "metadata": {
  "kernelspec": {
   "display_name": "Python 3",
   "language": "python",
   "name": "python3"
  },
  "language_info": {
   "codemirror_mode": {
    "name": "ipython",
    "version": 3
   },
   "file_extension": ".py",
   "mimetype": "text/x-python",
   "name": "python",
   "nbconvert_exporter": "python",
   "pygments_lexer": "ipython3",
   "version": "3.7.3"
  }
 },
 "nbformat": 4,
 "nbformat_minor": 2
}
